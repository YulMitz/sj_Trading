{
 "cells": [
  {
   "cell_type": "code",
   "execution_count": 8,
   "id": "65230869-f03d-43fc-8ff1-3884d64db670",
   "metadata": {},
   "outputs": [
    {
     "name": "stdout",
     "output_type": "stream",
     "text": [
      "Response Code: 0 | Event Code: 0 | Info: host '203.66.91.161:80', IP 203.66.91.161:80 (host 1 of 1) (host connection attempt 1 of 1) (total connection attempt 1 of 1) | Event: Session up\n",
      "Simulation environment login success\n",
      "  symbol  limit_up  limit_down  reference update_date  margin_trading_balance  \\\n",
      "0   2330    1105.0       905.0     1005.0  2025/03/07                      75   \n",
      "\n",
      "   short_selling_balance  \n",
      "0                     55  \n",
      "successfully read TSE2330 market data for analyzing\n"
     ]
    }
   ],
   "source": [
    "from sj_trading import testing_flow\n",
    "\n",
    "testing_flow.test_market_data()"
   ]
  },
  {
   "cell_type": "code",
   "execution_count": null,
   "id": "efb29d80-0b3d-44fe-b0af-97011bfadaff",
   "metadata": {},
   "outputs": [],
   "source": []
  }
 ],
 "metadata": {
  "kernelspec": {
   "display_name": "sj-trading",
   "language": "python",
   "name": "sj-trading"
  },
  "language_info": {
   "codemirror_mode": {
    "name": "ipython",
    "version": 3
   },
   "file_extension": ".py",
   "mimetype": "text/x-python",
   "name": "python",
   "nbconvert_exporter": "python",
   "pygments_lexer": "ipython3",
   "version": "3.11.4"
  }
 },
 "nbformat": 4,
 "nbformat_minor": 5
}
