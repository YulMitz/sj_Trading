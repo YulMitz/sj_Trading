{
 "cells": [
  {
   "cell_type": "code",
   "execution_count": 1,
   "id": "65230869-f03d-43fc-8ff1-3884d64db670",
   "metadata": {},
   "outputs": [
    {
     "name": "stderr",
     "output_type": "stream",
     "text": [
      "2025-03-10 00:51:13.837 | WARNING  | importlib._bootstrap:_call_with_frames_removed:241 - Optional: pip install shioaji[speed] for better performance.\n"
     ]
    },
    {
     "name": "stdout",
     "output_type": "stream",
     "text": [
      "1.2.5\n",
      "Response Code: 0 | Event Code: 0 | Info: host '203.66.91.161:80', IP 203.66.91.161:80 (host 1 of 1) (host connection attempt 1 of 1) (total connection attempt 1 of 1) | Event: Session up\n"
     ]
    },
    {
     "name": "stderr",
     "output_type": "stream",
     "text": [
      "2025-03-10 00:51:15,259 - AutoTrader - INFO - 2330 has been read in market data\n",
      "2025-03-10 00:51:15,259 - AutoTrader - INFO - 2454 has been read in market data\n"
     ]
    },
    {
     "name": "stdout",
     "output_type": "stream",
     "text": [
      "Simulation environment login success\n",
      "exchange=<Exchange.TSE: 'TSE'> code='2330' symbol='TSE2330' name='台積電' category='24' unit=1000 limit_up=1105.0 limit_down=905.0 reference=1005.0 update_date='2025/03/07' margin_trading_balance=75 short_selling_balance=55 day_trade=<DayTrade.Yes: 'Yes'>\n",
      "exchange=<Exchange.TSE: 'TSE'> code='2454' symbol='TSE2454' name='聯發科' category='24' unit=1000 limit_up=1640.0 limit_down=1350.0 reference=1495.0 update_date='2025/03/07' margin_trading_balance=25 short_selling_balance=11 day_trade=<DayTrade.Yes: 'Yes'>\n",
      "Response Code: 200 | Event Code: 16 | Info: QUO/v2/STK/*/TSE/2330 | Event: Subscribe or Unsubscribe ok\n",
      "Response Code: 200 | Event Code: 16 | Info: QUO/v2/STK/*/TSE/2454 | Event: Subscribe or Unsubscribe ok\n"
     ]
    }
   ],
   "source": [
    "from sj_trading import testing_flow\n",
    "\n",
    "testing_flow.test_market_data()"
   ]
  },
  {
   "cell_type": "code",
   "execution_count": null,
   "id": "efb29d80-0b3d-44fe-b0af-97011bfadaff",
   "metadata": {},
   "outputs": [],
   "source": []
  },
  {
   "cell_type": "code",
   "execution_count": null,
   "id": "886d4985-2c63-4dc3-957d-f6ebbb53ffc1",
   "metadata": {},
   "outputs": [],
   "source": []
  }
 ],
 "metadata": {
  "kernelspec": {
   "display_name": "sj-trading",
   "language": "python",
   "name": "sj-trading"
  },
  "language_info": {
   "codemirror_mode": {
    "name": "ipython",
    "version": 3
   },
   "file_extension": ".py",
   "mimetype": "text/x-python",
   "name": "python",
   "nbconvert_exporter": "python",
   "pygments_lexer": "ipython3",
   "version": "3.11.4"
  }
 },
 "nbformat": 4,
 "nbformat_minor": 5
}
