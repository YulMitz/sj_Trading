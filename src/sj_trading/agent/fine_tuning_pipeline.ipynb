{
 "cells": [
  {
   "cell_type": "markdown",
   "id": "fe04742b",
   "metadata": {},
   "source": [
    "## Configuration for fine-tuning and vLLM inference"
   ]
  },
  {
   "cell_type": "code",
   "execution_count": 1,
   "id": "499ee951",
   "metadata": {},
   "outputs": [
    {
     "name": "stderr",
     "output_type": "stream",
     "text": [
      "Note: Environment variable`HF_TOKEN` is set and is the current active token independently from the token you've just configured.\n"
     ]
    }
   ],
   "source": [
    "import os\n",
    "from huggingface_hub import login\n",
    "from dotenv import load_dotenv\n",
    "\n",
    "load_dotenv()\n",
    "\n",
    "hf_token = os.getenv('HF_TOKEN')\n",
    "login(token=hf_token) # or login by terminal `huggingface-cli login`"
   ]
  },
  {
   "cell_type": "code",
   "execution_count": 2,
   "id": "a8cb9b0f",
   "metadata": {},
   "outputs": [
    {
     "data": {
      "application/vnd.jupyter.widget-view+json": {
       "model_id": "b532b1cdd61c4bffaeda4d0a98dcf7ac",
       "version_major": 2,
       "version_minor": 0
      },
      "text/plain": [
       "Loading checkpoint shards:   0%|          | 0/3 [00:00<?, ?it/s]"
      ]
     },
     "metadata": {},
     "output_type": "display_data"
    }
   ],
   "source": [
    "from transformers import AutoModelForCausalLM, AutoTokenizer, BitsAndBytesConfig\n",
    "from peft import LoraConfig, get_peft_model, prepare_model_for_kbit_training\n",
    "import torch\n",
    "\n",
    "###-- Critical Environment Memo --###\n",
    "# CUDA: 12.9\n",
    "# Driver version: 575.57.08\n",
    "# torch version: 2.7.1 + cu128\n",
    "###-------------------------------###\n",
    "\n",
    "# Configure 4-bit quantization\n",
    "bnb_config = BitsAndBytesConfig(\n",
    "    load_in_4bit=True,\n",
    "    bnb_4bit_quant_type=\"nf4\",\n",
    "    bnb_4bit_compute_dtype=torch.bfloat16,\n",
    "    bnb_4bit_use_double_quant=False,\n",
    ")\n",
    "\n",
    "# Load the model for fine-tuning\n",
    "model = AutoModelForCausalLM.from_pretrained(\n",
    "    \"mistralai/Mistral-7B-Instruct-v0.3\",\n",
    "    token=hf_token,\n",
    "    quantization_config=bnb_config,\n",
    "    torch_dtype=torch.bfloat16,\n",
    "    device_map=\"auto\",\n",
    "    trust_remote_code=True,\n",
    ")\n",
    "\n",
    "# Configure tokenizer\n",
    "tokenizer = AutoTokenizer.from_pretrained(\"mistralai/Mistral-7B-Instruct-v0.3\")\n",
    "tokenizer.padding_side = 'right'\n",
    "tokenizer.pad_token = tokenizer.eos_token"
   ]
  },
  {
   "cell_type": "code",
   "execution_count": 2,
   "id": "77658fd8",
   "metadata": {},
   "outputs": [
    {
     "ename": "NameError",
     "evalue": "name 'model' is not defined",
     "output_type": "error",
     "traceback": [
      "\u001b[31m---------------------------------------------------------------------------\u001b[39m",
      "\u001b[31mNameError\u001b[39m                                 Traceback (most recent call last)",
      "\u001b[36mCell\u001b[39m\u001b[36m \u001b[39m\u001b[32mIn[2]\u001b[39m\u001b[32m, line 2\u001b[39m\n\u001b[32m      1\u001b[39m \u001b[38;5;66;03m# Clean up model if necessary\u001b[39;00m\n\u001b[32m----> \u001b[39m\u001b[32m2\u001b[39m \u001b[38;5;28;01mdel\u001b[39;00m \u001b[43mmodel\u001b[49m\n\u001b[32m      3\u001b[39m torch.cuda.empty_cache()\n\u001b[32m      5\u001b[39m \u001b[38;5;28;01mimport\u001b[39;00m\u001b[38;5;250m \u001b[39m\u001b[34;01mgc\u001b[39;00m \n",
      "\u001b[31mNameError\u001b[39m: name 'model' is not defined"
     ]
    }
   ],
   "source": [
    "# Clean up model if necessary\n",
    "del model\n",
    "torch.cuda.empty_cache()\n",
    "\n",
    "import gc \n",
    "gc.collect()"
   ]
  },
  {
   "cell_type": "code",
   "execution_count": 3,
   "id": "6f87f381",
   "metadata": {},
   "outputs": [],
   "source": [
    "peft_config = LoraConfig(\n",
    "    task_type=\"CAUSAL_LM\",\n",
    "    r=32,  # Rank of decomposed matrices\n",
    "    lora_alpha=64,  # Scaling factor\n",
    "    lora_dropout=0.1,\n",
    "    target_modules=[\n",
    "        \"q_proj\", \"k_proj\", \"v_proj\", \"o_proj\",\n",
    "        \"gate_proj\", \"up_proj\", \"down_proj\", \"lm_head\"\n",
    "    ],\n",
    "    bias=\"none\"\n",
    ")\n",
    "\n",
    "# Prepare model for training\n",
    "model.gradient_checkpointing_enable()\n",
    "model = prepare_model_for_kbit_training(model)\n",
    "peft_model = get_peft_model(model, peft_config)"
   ]
  },
  {
   "cell_type": "code",
   "execution_count": 1,
   "id": "a66d013e",
   "metadata": {},
   "outputs": [
    {
     "name": "stdout",
     "output_type": "stream",
     "text": [
      "\u001b[2mUsing Python 3.11.4 environment at: /home/ttsai/mulkooo/sj_Trading/.venv\u001b[0m\n",
      "\u001b[2K   \u001b[36m\u001b[1mUpdating\u001b[0m\u001b[39m https://github.com/mistralai/mistral-finetune.git (\u001b[2mHEAD\u001b[0m)[0m\n",
      "\u001b[2K\u001b[1A   \u001b[36m\u001b[1mUpdating\u001b[0m\u001b[39m https://github.com/mistralai/mistral-finetune.git (\u001b[2mHEAD\u001b[0m)\n",
      "\u001b[2K\u001b[1A   \u001b[36m\u001b[1mUpdating\u001b[0m\u001b[39m https://github.com/mistralai/mistral-finetune.git (\u001b[2mHEAD\u001b[0m)\n",
      "\u001b[2K\u001b[1A   \u001b[36m\u001b[1mUpdating\u001b[0m\u001b[39m https://github.com/mistralai/mistral-finetune.git (\u001b[2mHEAD\u001b[0m)\n",
      "\u001b[2K\u001b[1A   \u001b[36m\u001b[1mUpdating\u001b[0m\u001b[39m https://github.com/mistralai/mistral-finetune.git (\u001b[2mHEAD\u001b[0m)\n",
      "\u001b[2K\u001b[1A   \u001b[36m\u001b[1mUpdating\u001b[0m\u001b[39m https://github.com/mistralai/mistral-finetune.git (\u001b[2mHEAD\u001b[0m)\n",
      "\u001b[2K\u001b[1A   \u001b[36m\u001b[1mUpdating\u001b[0m\u001b[39m https://github.com/mistralai/mistral-finetune.git (\u001b[2mHEAD\u001b[0m)\n",
      "\u001b[2K\u001b[1A    \u001b[32m\u001b[1mUpdated\u001b[0m\u001b[39m https://github.com/mistralai/mistral-finetune.git (\u001b[2m656df1c94c80ca9703ebc\n",
      "\u001b[37m⠋\u001b[0m \u001b[2mResolving dependencies...                                                     \u001b[0m\u001b[1m\u001b[33mwarning\u001b[39m\u001b[0m\u001b[1m:\u001b[0m \u001b[1m`\u001b[36m/home/ttsai/.cache/uv/git-v0/checkouts/7ddabba6fa6995a2/656df1c\u001b[39m` does not appear to be a Python project, as the `pyproject.toml` does not include a `[build-system]` table, and neither `setup.py` nor `setup.cfg` are present in the directory\u001b[0m\n",
      "\u001b[2K\u001b[1m\u001b[31merror\u001b[39m\u001b[0m: The build backend returned an error                                 \u001b[0m\n",
      "  \u001b[1m\u001b[31mCaused by\u001b[39m\u001b[0m: Call to `setuptools.build_meta:__legacy__.build_wheel` failed (exit status: 1)\n",
      "\n",
      "\u001b[31m[stderr]\u001b[39m\n",
      "error: Multiple top-level packages discovered in a flat-layout: ['model', 'finetune', 'tutorials'].\n",
      "\n",
      "To avoid accidental inclusion of unwanted files or directories,\n",
      "setuptools will not proceed with this build.\n",
      "\n",
      "If you are trying to create a single distribution with multiple packages\n",
      "on purpose, you should not rely on automatic discovery.\n",
      "Instead, consider the following options:\n",
      "\n",
      "1. set up custom discovery (`find` directive with `include` or `exclude`)\n",
      "2. use a `src-layout`\n",
      "3. explicitly set `py_modules` or `packages` with a list of names\n",
      "\n",
      "To find more information, look for \"package discovery\" on setuptools docs.\n",
      "\n",
      "\u001b[36m\u001b[1mhint\u001b[0m\u001b[39m\u001b[1m:\u001b[0m This usually indicates a problem with the package or the build environment.\n"
     ]
    }
   ],
   "source": [
    "!uv pip install git+https://github.com/mistralai/mistral-finetune.git\n",
    "# !pip install -U transformers accelerate peft"
   ]
  },
  {
   "cell_type": "markdown",
   "id": "f715ad4b",
   "metadata": {},
   "source": [
    "## Prepare Dataset"
   ]
  },
  {
   "cell_type": "markdown",
   "id": "618e9a45",
   "metadata": {},
   "source": [
    "### Financial-Alpaca"
   ]
  },
  {
   "cell_type": "code",
   "execution_count": null,
   "id": "f1978df9",
   "metadata": {},
   "outputs": [],
   "source": [
    "from datasets import load_dataset\n",
    "\n",
    "# Load Finanace-Alpaca dataset from huggingface\n",
    "alpaca_data = load_dataset(\"gbharti/finance-alpaca\", split=\"train\")"
   ]
  },
  {
   "cell_type": "code",
   "execution_count": null,
   "id": "582d59a9",
   "metadata": {},
   "outputs": [],
   "source": [
    "import json\n",
    "\n",
    "def convert_to_jsonl(example):\n",
    "    system_msg = {\"role\": \"system\", \"content\": \"You are a financial expert specialized in SEC filings and market analysis.\"}\n",
    "    \n",
    "    if example[\"input\"]:\n",
    "        user_msg = f\"{example['instruction']}\\nInput:\\n{example['input']}\"\n",
    "    else:\n",
    "        user_msg = example[\"instruction\"]\n",
    "    \n",
    "    return {\n",
    "        \"messages\": [\n",
    "            system_msg,\n",
    "            {\"role\": \"user\", \"content\": user_msg},\n",
    "            {\"role\": \"assistant\", \"content\": example[\"output\"]}\n",
    "        ]\n",
    "    }\n",
    "\n",
    "# Process and save as JSONL\n",
    "with open(\"financial_alpaca.jsonl\", \"w\") as f:\n",
    "    for example in alpaca_data:\n",
    "        converted = convert_to_jsonl(example)\n",
    "        json.dump(converted, f)\n",
    "        f.write(\"\\n\")\n"
   ]
  },
  {
   "cell_type": "code",
   "execution_count": 4,
   "id": "11f55524",
   "metadata": {},
   "outputs": [],
   "source": [
    "# Validate dataset\n",
    "!python ~/mulkooo/mistral-finetune/utils/reformat_data.py ~/mulkooo/sj_Trading/content/alpaca/financial_alpaca.jsonl"
   ]
  },
  {
   "cell_type": "code",
   "execution_count": 5,
   "id": "39f1512a",
   "metadata": {},
   "outputs": [
    {
     "name": "stdout",
     "output_type": "stream",
     "text": [
      "Traceback (most recent call last):\n",
      "  File \"/home/ttsai/mulkooo/mistral-finetune/utils/validate_data.py\", line 16, in <module>\n",
      "    from finetune.args import TrainArgs\n",
      "ModuleNotFoundError: No module named 'finetune'\n"
     ]
    }
   ],
   "source": [
    "!python ~/mulkooo/mistral-finetune/utils/validate_data.py ~/mulkooo/sj_Trading/content/alpaca/financial_alpaca.jsonl"
   ]
  },
  {
   "cell_type": "code",
   "execution_count": null,
   "id": "cb7e2f34",
   "metadata": {},
   "outputs": [],
   "source": [
    "# Run fine-tuning with alpaca data\n",
    "# Commands are run under /mistral-finetune:\n",
    "\n",
    "# python -m torch.distributed.run --nproc_per_node=1 finetune.py financial_alpaca.jsonl \\\n",
    "#     --model_name_or_path mistralai/Mistral-7B-Instruct-v0.3 \\\n",
    "#     --max_steps 1000 \\\n",
    "#     --learning_rate 2e-4 \\\n",
    "#     --seq_len 4096"
   ]
  }
 ],
 "metadata": {
  "kernelspec": {
   "display_name": ".venv",
   "language": "python",
   "name": "python3"
  },
  "language_info": {
   "codemirror_mode": {
    "name": "ipython",
    "version": 3
   },
   "file_extension": ".py",
   "mimetype": "text/x-python",
   "name": "python",
   "nbconvert_exporter": "python",
   "pygments_lexer": "ipython3",
   "version": "3.11.4"
  }
 },
 "nbformat": 4,
 "nbformat_minor": 5
}
