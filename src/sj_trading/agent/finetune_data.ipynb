{
 "cells": [
  {
   "cell_type": "markdown",
   "id": "f8159d4f",
   "metadata": {},
   "source": [
    "## Prepare dataset for fine-tuning"
   ]
  },
  {
   "cell_type": "markdown",
   "id": "ed395954",
   "metadata": {},
   "source": [
    "### Financial-Alpaca dataset"
   ]
  },
  {
   "cell_type": "code",
   "execution_count": null,
   "id": "615e4c49",
   "metadata": {},
   "outputs": [],
   "source": [
    "from datasets import load_dataset\n",
    "\n",
    "# Load Finanace-Alpaca dataset from huggingface\n",
    "alpaca_data = load_dataset(\"gbharti/finance-alpaca\", split=\"train\")"
   ]
  },
  {
   "cell_type": "code",
   "execution_count": null,
   "id": "f039ded8",
   "metadata": {},
   "outputs": [],
   "source": [
    "import json\n",
    "\n",
    "def convert_to_jsonl(example):\n",
    "    system_msg = {\"role\": \"system\", \"content\": \"You are a financial expert specialized in SEC filings and market analysis.\"}\n",
    "    \n",
    "    if example[\"input\"]:\n",
    "        user_msg = f\"{example['instruction']}\\nInput:\\n{example['input']}\"\n",
    "    else:\n",
    "        user_msg = example[\"instruction\"]\n",
    "    \n",
    "    return {\n",
    "        \"messages\": [\n",
    "            system_msg,\n",
    "            {\"role\": \"user\", \"content\": user_msg},\n",
    "            {\"role\": \"assistant\", \"content\": example[\"output\"]}\n",
    "        ]\n",
    "    }\n",
    "\n",
    "# Process and save as JSONL\n",
    "with open(\"financial_alpaca.jsonl\", \"w\") as f:\n",
    "    for example in alpaca_data:\n",
    "        converted = convert_to_jsonl(example)\n",
    "        json.dump(converted, f)\n",
    "        f.write(\"\\n\")"
   ]
  },
  {
   "cell_type": "code",
   "execution_count": null,
   "id": "92e5ebed",
   "metadata": {},
   "outputs": [],
   "source": [
    "# Validate dataset\n",
    "!python ~/mulkooo/mistral-finetune/utils/validate_data.py ~/mulkooo/sj_Trading/content/alpaca/financial_alpaca.jsonl"
   ]
  },
  {
   "cell_type": "code",
   "execution_count": null,
   "id": "fd4ff211",
   "metadata": {},
   "outputs": [],
   "source": [
    "# Reformat the dataset if needed\n",
    "!python ~/mulkooo/mistral-finetune/utils/reformat_data.py ~/mulkooo/sj_Trading/content/alpaca/financial_alpaca.jsonl"
   ]
  },
  {
   "cell_type": "code",
   "execution_count": null,
   "id": "3bc6f67a",
   "metadata": {},
   "outputs": [],
   "source": [
    "# Run fine-tuning with alpaca data\n",
    "# Commands are run under /mistral-finetune:\n",
    "\n",
    "# python -m torch.distributed.run --nproc_per_node=1 finetune.py financial_alpaca.jsonl \\\n",
    "#     --model_name_or_path mistralai/Mistral-7B-Instruct-v0.3 \\\n",
    "#     --max_steps 1000 \\\n",
    "#     --learning_rate 2e-4 \\\n",
    "#     --seq_len 4096"
   ]
  }
 ],
 "metadata": {
  "language_info": {
   "name": "python"
  }
 },
 "nbformat": 4,
 "nbformat_minor": 5
}
